{
 "cells": [
  {
   "cell_type": "code",
   "execution_count": 2,
   "metadata": {},
   "outputs": [],
   "source": [
    "from openai import OpenAI\n",
    "import os\n",
    "from dotenv import load_dotenv\n",
    "\n",
    "# Load the .env file\n",
    "load_dotenv()\n",
    "\n",
    "# Get the API key from environment variables\n",
    "api_key = os.getenv('../OPENAI_API_KEY')"
   ]
  },
  {
   "cell_type": "code",
   "execution_count": 3,
   "metadata": {},
   "outputs": [],
   "source": [
    "client = OpenAI(\n",
    "    # api_key=api_key,\n",
    "    api_key = 'sk-None-CNFcf6ejpx8yCApAM60BT3BlbkFJEgNZXXF5c3kPGfxAIrHO'\n",
    ")"
   ]
  },
  {
   "cell_type": "code",
   "execution_count": 4,
   "metadata": {},
   "outputs": [],
   "source": [
    "initial = \"\"\"\n",
    "        \"Given the following website content, classify it into a category. \"\n",
    "        \"Provide only the category name without any reasoning or explanation. \"\n",
    "        \"Content: '{}'\"\n",
    "\"\"\""
   ]
  },
  {
   "cell_type": "code",
   "execution_count": 5,
   "metadata": {},
   "outputs": [],
   "source": [
    "content = \"'Python爬取网易云，破解VIP免费下载付费歌曲 - YouTubeAboutPressCopyrightContact usCreatorAdvertiseDevelopersTermsPrivacyPolicy & SafetyHow YouTube worksTest new featuresAccessibility© 2024 Google LLC'\""
   ]
  },
  {
   "cell_type": "code",
   "execution_count": 6,
   "metadata": {},
   "outputs": [
    {
     "name": "stdout",
     "output_type": "stream",
     "text": [
      "Technology\n"
     ]
    }
   ],
   "source": [
    "response = client.chat.completions.create(\n",
    "    messages=[\n",
    "        {\"role\":\"system\", \"content\": initial},\n",
    "        {\"role\": \"user\", \"content\": f\"Classify the following content: {content}\"},\n",
    "    ],\n",
    "    model=\"gpt-4o-mini\",\n",
    "    max_tokens=200, \n",
    "    temperature=0.5\n",
    ")\n",
    "print(response.choices[0].message.content.strip())"
   ]
  },
  {
   "cell_type": "code",
   "execution_count": 5,
   "metadata": {},
   "outputs": [
    {
     "data": {
      "text/plain": [
       "'Technology'"
      ]
     },
     "execution_count": 5,
     "metadata": {},
     "output_type": "execute_result"
    }
   ],
   "source": [
    "from gpt_model import llm_response\n",
    "cate = llm_response(content = content, client=client)\n",
    "cate"
   ]
  },
  {
   "cell_type": "code",
   "execution_count": 6,
   "metadata": {},
   "outputs": [
    {
     "data": {
      "text/plain": [
       "'1. What programming language is used for web scraping in the mentioned content?\\na) Java  \\nb) Python  \\nc) JavaScript  \\n\\n2. What is the main purpose of the content described?\\na) To promote paid music services  \\nb) To demonstrate how to download paid songs for free  \\nc) To teach music production techniques'"
      ]
     },
     "execution_count": 6,
     "metadata": {},
     "output_type": "execute_result"
    }
   ],
   "source": [
    "from generate_questions import generate_multiple_choice_questions_with_gpt\n",
    "\n",
    "generate_multiple_choice_questions_with_gpt(category=cate, client=client, content = content)"
   ]
  },
  {
   "cell_type": "markdown",
   "metadata": {},
   "source": [
    "```\n",
    "'1. What programming language is mentioned for web scraping in the content?\\na) Java  \\nb) Python  \\nc) JavaScript  \\n\\n2. What type of content is being discussed in relation to web scraping?\\na) Free songs  \\nb) Paid songs  \\nc) Music videos'\n",
    "```"
   ]
  },
  {
   "cell_type": "code",
   "execution_count": 7,
   "metadata": {},
   "outputs": [
    {
     "data": {
      "text/plain": [
       "'What specific features or functionalities would you like to see in a Python tool designed for downloading music from platforms like 网易云, especially regarding user experience and accessibility?  \\n\\nHow do you perceive the ethical implications of using technology to bypass payment systems for digital content, and how does this influence your choices as a consumer?'"
      ]
     },
     "execution_count": 7,
     "metadata": {},
     "output_type": "execute_result"
    }
   ],
   "source": [
    "from generate_questions import generate_related_questions\n",
    "generate_related_questions(category=cate, client=client, content=content)"
   ]
  },
  {
   "cell_type": "code",
   "execution_count": null,
   "metadata": {},
   "outputs": [],
   "source": []
  }
 ],
 "metadata": {
  "kernelspec": {
   "display_name": "Python 3",
   "language": "python",
   "name": "python3"
  },
  "language_info": {
   "codemirror_mode": {
    "name": "ipython",
    "version": 3
   },
   "file_extension": ".py",
   "mimetype": "text/x-python",
   "name": "python",
   "nbconvert_exporter": "python",
   "pygments_lexer": "ipython3",
   "version": "3.10.6"
  }
 },
 "nbformat": 4,
 "nbformat_minor": 2
}
